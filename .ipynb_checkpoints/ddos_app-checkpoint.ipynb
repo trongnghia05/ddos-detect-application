{
 "cells": [
  {
   "cell_type": "markdown",
   "metadata": {},
   "source": [
    "<h1>Phần 2: Xây dựng ứng dụng </h1>\n",
    "<ol>\n",
    "<li>Chặn bắt và trích xuất thông tin gói tin</li>\n",
    "<li>Dự đoán gói tin</li>\n",
    "<ol>"
   ]
  },
  {
   "cell_type": "markdown",
   "metadata": {},
   "source": [
    "<h3>Phần 2.1: Chặn bắt và trích xuất thông tin gói tin</h3>\n",
    "<p>Kiến thức cần biết</p>\n",
    "<ul>\n",
    "<li><b>Socket trong python</b></li>\n",
    "<li><b>Cấu trúc Ethernet frame </b></li>\n",
    "    <img src=\"ethernet-frame.jpg\">\n",
    "<ul>"
   ]
  },
  {
   "cell_type": "code",
   "execution_count": 1,
   "metadata": {},
   "outputs": [
    {
     "name": "stdout",
     "output_type": "stream",
     "text": [
      "Phát hiên truy cập đến cổng : 80\n",
      "byte_s:  3424500.0\n",
      "package_s:  54.0\n",
      "lengt max:  3276750\n",
      "lengt min:  2000\n",
      "lengt mean:  63416.666666666664\n",
      "lengt std:  441400.9166950828\n",
      "lengt variance:  194834769259.25943\n",
      "May dang bi ddos\n"
     ]
    },
    {
     "ename": "SystemExit",
     "evalue": "",
     "output_type": "error",
     "traceback": [
      "An exception has occurred, use %tb to see the full traceback.\n",
      "\u001b[1;31mSystemExit\u001b[0m\n"
     ]
    },
    {
     "name": "stderr",
     "output_type": "stream",
     "text": [
      "c:\\users\\admin\\appdata\\local\\programs\\python\\python36\\lib\\site-packages\\IPython\\core\\interactiveshell.py:3351: UserWarning: To exit: use 'exit', 'quit', or Ctrl-D.\n",
      "  warn(\"To exit: use 'exit', 'quit', or Ctrl-D.\", stacklevel=1)\n"
     ]
    }
   ],
   "source": [
    "import socket\n",
    "import struct\n",
    "import time\n",
    "import numpy as np\n",
    "import pandas as pd\n",
    "import pickle\n",
    "import sys\n",
    "from ddos_ui import *\n",
    "\n",
    "\n",
    "myfile =  open(\"config.txt\", \"r\")\n",
    "\n",
    "PATH_MODEL = myfile.readline().split(':')[1].strip()      #path model\n",
    "TIME_SCAN =  int(myfile.readline().split(':')[1].strip()) #khoảng thời gian chương trình quét để phát hiện ddos\n",
    "NAME_HOST = myfile.readline().split(':')[1].strip()       #ten host\n",
    "PORT = int(myfile.readline().split(':')[1].strip())       #cổng thực hiện quét\n",
    "\n",
    "myfile.close()\n",
    "\n",
    "HOST = socket.gethostbyname(NAME_HOST)  #địa chỉ ip\n",
    "\n",
    "\n",
    "# Tạo một raw socket\n",
    "s = socket.socket(socket.AF_INET, socket.SOCK_RAW, socket.IPPROTO_IP)\n",
    "s.bind((HOST, PORT))\n",
    "\n",
    "# Các gói tin chặn bắt được sẽ bao gồm cả ip header\n",
    "s.setsockopt(socket.IPPROTO_IP, socket.IP_HDRINCL, 1)\n",
    "\n",
    "# receive all packages\n",
    "s.ioctl(socket.SIO_RCVALL, socket.RCVALL_ON)\n",
    "\n",
    "#array chứa tất cả các gói tin\n",
    "packages_lenght = []\n",
    "while True:\n",
    "    if(s.recvfrom(2048)):\n",
    "        start = time.time()\n",
    "        break;\n",
    "print(\"Phát hiên truy cập đến cổng :\", PORT) \n",
    "while True:\n",
    "    \n",
    "    data = s.recvfrom(65536)\n",
    "    packages_lenght.append(len(data[0]))\n",
    "    ipheader = data[0][14:34]\n",
    "    ip_hdr = struct.unpack(\"!2H2I4H\",ipheader)\n",
    "    flags = ip_hdr[4] & 0x003f\n",
    "    \n",
    "    end = time.time()\n",
    "    time_scan = end - start\n",
    "    if (time_scan >= TIME_SCAN):\n",
    "        break;\n",
    "packages_lenght   = np.array(packages_lenght)   \n",
    "packages_lenght   = packages_lenght*50\n",
    "number_package    = round(packages_lenght.shape[0],2)                     #số lượng gói tin\n",
    "byte_s            = round(sum(packages_lenght) / TIME_SCAN,2)             #số byte/s \n",
    "package_s         = round(number_package / TIME_SCAN, 2)                  #số gói tin/s \n",
    "sdt_package       = round(np.std(packages_lenght), 2)                     #độ lệch chuẩn kích thước (size)của tất cả gói tin\n",
    "variance_package  = round(sdt_package**2,2)                               #phương sai kích thước(size) của tất cả gói tin\n",
    "max_size_package  = round(max(packages_lenght),2)                         #kích thước lớn nhất trong các gói tin  \n",
    "min_size_package  = round(min(packages_lenght), 2)                        #kích thước nhỏ nhất trong các gói tin \n",
    "size_package_mean = round(sum(packages_lenght) / len(packages_lenght),2)  #kích thước trung bình của tất cả gói tin\n",
    "\n",
    "print(\"byte_s: \",byte_s)\n",
    "print(\"package_s: \",package_s)\n",
    "print(\"lengt max: \",max_size_package)\n",
    "print(\"lengt min: \",min_size_package)\n",
    "print(\"lengt mean: \",size_package_mean)\n",
    "print(\"lengt std: \",sdt_package)\n",
    "print(\"lengt variance: \",variance_package)\n",
    "\n",
    "package = np.zeros([8])\n",
    "package = package.reshape(8,1).T\n",
    "package = pd.DataFrame(package)\n",
    "\n",
    "package.columns = ['Destination Port', \n",
    "                   'Flow Bytes/s', \n",
    "                   'Flow Packets/s',\n",
    "                   'Min Packet Length', \n",
    "                   'Max Packet Length',\n",
    "                   'Packet Length Mean',\n",
    "                   'Packet Length Std', \n",
    "                   'Packet Length Variance']\n",
    "\n",
    "package['Destination Port'] = 80\n",
    "package['Flow Bytes/s'] = byte_s\n",
    "package['Flow Packets/s'] = package_s\n",
    "package['Max Packet Length'] = max_size_package\n",
    "package['Min Packet Length'] = min_size_package\n",
    "package['Packet Length Mean'] = size_package_mean\n",
    "package['Packet Length Std'] = sdt_package\n",
    "package['Packet Length Variance'] = variance_package\n",
    "\n",
    "# disabled promiscuous mode\n",
    "s.ioctl(socket.SIO_RCVALL, socket.RCVALL_OFF)\n",
    "\n",
    "# Load model đã được lưu\n",
    "model = pickle.load(open(PATH_MODEL, 'rb')) \n",
    "predict = model.predict(package)\n",
    "\n",
    "#PyQt5\n",
    "\n",
    "#label 1 la ddos, label 0 khong phai ddos\n",
    "if(predict[0]==1):\n",
    "    print(\"May dang bi ddos\")\n",
    "    app = QtWidgets.QApplication(sys.argv)\n",
    "    MainWindow = QtWidgets.QMainWindow()\n",
    "    ui = Ui_MainWindow()\n",
    "    ui.setupUi(MainWindow,package)\n",
    "    MainWindow.show()\n",
    "    app.exec_()\n",
    "    app.exit()\n",
    "    sys.exit()"
   ]
  },
  {
   "cell_type": "code",
   "execution_count": null,
   "metadata": {},
   "outputs": [],
   "source": []
  }
 ],
 "metadata": {
  "kernelspec": {
   "display_name": "Python 3",
   "language": "python",
   "name": "python3"
  },
  "language_info": {
   "codemirror_mode": {
    "name": "ipython",
    "version": 3
   },
   "file_extension": ".py",
   "mimetype": "text/x-python",
   "name": "python",
   "nbconvert_exporter": "python",
   "pygments_lexer": "ipython3",
   "version": "3.6.8"
  }
 },
 "nbformat": 4,
 "nbformat_minor": 4
}
